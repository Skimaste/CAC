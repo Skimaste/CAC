{
 "cells": [
  {
   "cell_type": "code",
   "execution_count": null,
   "metadata": {},
   "outputs": [],
   "source": [
    "import ast\n",
    "import pandas as pd\n",
    "import numpy as np\n",
    "from tensorflow.keras.preprocessing.sequence import pad_sequences\n",
    "\n",
    "def read_csv(file_name):\n",
    "    return pd.read_csv(f'Data/{file_name}')\n",
    "\n",
    "def convert_to_tuple(df, column):\n",
    "    df[column] = df[column].apply(lambda x: tuple(map(int, x.strip('()').split(','))))\n",
    "\n",
    "def calculate_distance(croped_slice_shape, center_min_circle, ct_numbers_in_heart, ct_number):\n",
    "    x1, y1 = 0, 0\n",
    "    x2, y2 = croped_slice_shape\n",
    "    z1, z2 = min(ct_numbers_in_heart), max(ct_numbers_in_heart)\n",
    "    x, y = center_min_circle\n",
    "    z = ct_number\n",
    "    return [abs(x - x1), abs(x - x2), abs(y - y1), abs(y - y2), abs(z - z1), abs(z - z2)]\n",
    "\n",
    "ct_slices_train = read_csv('ct_slices_train.csv')\n",
    "manual_labels_train = read_csv('manual_labels_train.csv')\n",
    "patient_overview_train = read_csv('patient_overview_train.csv')\n",
    "\n",
    "df1 = ct_slices_train.copy()\n",
    "df1['Total_score'] = df1['pt_id'].map(manual_labels_train.set_index('pt_id')['Total_score'])\n",
    "df1['pixel_count'] = df1['pixel_values_hu'].apply(lambda x: len(x.split()))\n",
    "df1['total_pixel_count'] = df1['pixel_count'].groupby(df1['pt_id']).transform('sum')\n",
    "df1['pixel_values_list'] = df1['pixel_values_hu'].apply(lambda x: ast.literal_eval(x))\n",
    "df1['mean_pixel_value'] = df1['pixel_values_list'].apply(lambda x: sum(x)/len(x))\n",
    "df1['max_pixel_value'] = df1['pixel_values_list'].apply(max)\n",
    "\n",
    "convert_to_tuple(df1, 'croped_slice_shape')\n",
    "convert_to_tuple(df1, 'center_min_circle')\n",
    "\n",
    "patient_overview_train['ct_numbers_in_heart'] = patient_overview_train['ct_numbers_in_heart'].apply(lambda x: list(map(int, ast.literal_eval(x))))\n",
    "\n",
    "for dist in ['dist_to_x1', 'dist_to_x2', 'dist_to_y1', 'dist_to_y2', 'dist_to_z1', 'dist_to_z2']:\n",
    "    df1[dist] = np.nan\n",
    "\n",
    "df1 = df1[~df1['pt_id'].isin([1283, 1284])]\n",
    "\n",
    "for i in df1.index:\n",
    "    croped_slice_shape = df1.loc[i, 'croped_slice_shape']\n",
    "    center_min_circle = df1.loc[i, 'center_min_circle']\n",
    "    pt_id = df1.loc[i, 'pt_id']\n",
    "    ct_number = df1.loc[i, 'ct_number']\n",
    "    ct_numbers_in_heart = patient_overview_train[patient_overview_train['pt_id'] == pt_id]['ct_numbers_in_heart'].values[0]\n",
    "    df1.loc[i, ['dist_to_x1', 'dist_to_x2', 'dist_to_y1', 'dist_to_y2', 'dist_to_z1', 'dist_to_z2']] = calculate_distance(croped_slice_shape, center_min_circle, ct_numbers_in_heart, ct_number)\n",
    "\n",
    "df2 = df1[['pt_id','Total_score', 'pixel_count', 'mean_pixel_value', 'max_pixel_value', 'dist_to_x1', 'dist_to_x2', 'dist_to_y1', 'dist_to_y2', 'dist_to_z1', 'dist_to_z2']]\n",
    "\n",
    "grouped = {p_id: grp.drop(['pt_id', 'Total_score'], axis = 1).values for p_id, grp in df2.groupby('pt_id')}\n",
    "labels = df2[['pt_id', 'Total_score']].drop_duplicates().set_index('pt_id')['Total_score'].to_dict()\n",
    "\n",
    "X = [np.array(features) for features in grouped.values()]\n",
    "X_padded = pad_sequences(X, dtype='float32', padding='post')\n",
    "Y = df2.groupby('pt_id')['Total_score'].first().values"
   ]
  },
  {
   "cell_type": "code",
   "execution_count": null,
   "metadata": {},
   "outputs": [],
   "source": [
    "X_padded_flatten = X_padded.reshape(X_padded.shape[0], -1)"
   ]
  },
  {
   "cell_type": "code",
   "execution_count": null,
   "metadata": {},
   "outputs": [],
   "source": [
    "X_padded_flatten.shape, Y.shape"
   ]
  }
 ],
 "metadata": {
  "kernelspec": {
   "display_name": "base",
   "language": "python",
   "name": "python3"
  },
  "language_info": {
   "codemirror_mode": {
    "name": "ipython",
    "version": 3
   },
   "file_extension": ".py",
   "mimetype": "text/x-python",
   "name": "python",
   "nbconvert_exporter": "python",
   "pygments_lexer": "ipython3",
   "version": "3.11.5"
  }
 },
 "nbformat": 4,
 "nbformat_minor": 2
}
